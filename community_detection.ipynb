{
 "cells": [
  {
   "cell_type": "code",
   "execution_count": null,
   "metadata": {},
   "outputs": [
    {
     "ename": "ModuleNotFoundError",
     "evalue": "No module named 'pandas'",
     "output_type": "error",
     "traceback": [
      "\u001b[0;31m---------------------------------------------------------------------------\u001b[0m",
      "\u001b[0;31mModuleNotFoundError\u001b[0m                       Traceback (most recent call last)",
      "Cell \u001b[0;32mIn[4], line 1\u001b[0m\n\u001b[0;32m----> 1\u001b[0m \u001b[38;5;28;01mimport\u001b[39;00m \u001b[38;5;21;01mutils\u001b[39;00m\n\u001b[1;32m      2\u001b[0m \u001b[38;5;28;01mimport\u001b[39;00m \u001b[38;5;21;01mGraph_Exploration\u001b[39;00m\n\u001b[1;32m      3\u001b[0m \u001b[38;5;28;01mimport\u001b[39;00m \u001b[38;5;21;01mimportlib\u001b[39;00m\n",
      "File \u001b[0;32m~/FS24/social_media/project/project-git/Social-Media-Analytics---Project/utils.py:2\u001b[0m\n\u001b[1;32m      1\u001b[0m \u001b[38;5;66;03m#importing important liberaries\u001b[39;00m\n\u001b[0;32m----> 2\u001b[0m \u001b[38;5;28;01mimport\u001b[39;00m \u001b[38;5;21;01mpandas\u001b[39;00m \u001b[38;5;28;01mas\u001b[39;00m \u001b[38;5;21;01mpd\u001b[39;00m\n\u001b[1;32m      3\u001b[0m \u001b[38;5;28;01mimport\u001b[39;00m \u001b[38;5;21;01mnumpy\u001b[39;00m \u001b[38;5;28;01mas\u001b[39;00m \u001b[38;5;21;01mnp\u001b[39;00m\n\u001b[1;32m      4\u001b[0m \u001b[38;5;66;03m#import matplotlib.pyplot as plt\u001b[39;00m\n",
      "\u001b[0;31mModuleNotFoundError\u001b[0m: No module named 'pandas'"
     ]
    }
   ],
   "source": [
    "import utils\n",
    "import Graph_Exploration\n",
    "import importlib\n",
    "importlib.reload(Graph_Exploration)\n",
    "import networkx as nx\n"
   ]
  },
  {
   "cell_type": "code",
   "execution_count": 2,
   "metadata": {},
   "outputs": [
    {
     "data": {
      "text/plain": [
       "'/home/deborah/FS24/social_media/project/project-git/Social-Media-Analytics---Project/myenv'"
      ]
     },
     "execution_count": 2,
     "metadata": {},
     "output_type": "execute_result"
    }
   ],
   "source": [
    "import sys\n",
    "sys.prefix"
   ]
  },
  {
   "cell_type": "code",
   "execution_count": 7,
   "metadata": {},
   "outputs": [],
   "source": [
    "nodes,edges = utils.Load_data(\"data/musae_facebook_target.csv\",\"data/musae_facebook_edges.csv\")"
   ]
  },
  {
   "cell_type": "code",
   "execution_count": 13,
   "metadata": {},
   "outputs": [],
   "source": [
    "G = utils.Create_Graph(nodes=nodes , edges=edges)"
   ]
  },
  {
   "cell_type": "code",
   "execution_count": null,
   "metadata": {},
   "outputs": [],
   "source": [
    "G,nodes = Graph_Exploration.Calculate_closeness_centrality(G,nodes)"
   ]
  },
  {
   "cell_type": "code",
   "execution_count": 20,
   "metadata": {},
   "outputs": [],
   "source": [
    "communities = nx.community.louvain_communities(G)"
   ]
  },
  {
   "cell_type": "code",
   "execution_count": 25,
   "metadata": {},
   "outputs": [
    {
     "name": "stdout",
     "output_type": "stream",
     "text": [
      "There are 59 communities.\n",
      "community 0 colour tab:blue has length 546\n",
      "community 1 colour tab:orange has length 20\n",
      "community 2 colour tab:green has length 84\n",
      "community 3 colour tab:red has length 106\n",
      "community 4 colour tab:purple has length 1102\n",
      "community 5 colour tab:brown has length 139\n",
      "community 6 colour tab:pink has length 14\n",
      "community 7 colour tab:gray has length 55\n",
      "community 8 colour tab:olive has length 504\n",
      "community 9 colour tab:blue has length 9\n",
      "community 10 colour tab:orange has length 3773\n",
      "community 11 colour tab:green has length 14\n",
      "community 12 colour tab:red has length 23\n",
      "community 13 colour tab:purple has length 194\n",
      "community 14 colour tab:brown has length 144\n",
      "community 15 colour tab:pink has length 37\n",
      "community 16 colour tab:gray has length 113\n",
      "community 17 colour tab:olive has length 625\n",
      "community 18 colour tab:blue has length 23\n",
      "community 19 colour tab:orange has length 805\n",
      "community 20 colour tab:green has length 859\n",
      "community 21 colour tab:red has length 38\n",
      "community 22 colour tab:purple has length 247\n",
      "community 23 colour tab:brown has length 163\n",
      "community 24 colour tab:pink has length 139\n",
      "community 25 colour tab:gray has length 34\n",
      "community 26 colour tab:olive has length 862\n",
      "community 27 colour tab:blue has length 755\n",
      "community 28 colour tab:orange has length 10\n",
      "community 29 colour tab:green has length 409\n",
      "community 30 colour tab:red has length 160\n",
      "community 31 colour tab:purple has length 86\n",
      "community 32 colour tab:brown has length 142\n",
      "community 33 colour tab:pink has length 263\n",
      "community 34 colour tab:gray has length 15\n",
      "community 35 colour tab:olive has length 600\n",
      "community 36 colour tab:blue has length 1514\n",
      "community 37 colour tab:orange has length 279\n",
      "community 38 colour tab:green has length 243\n",
      "community 39 colour tab:red has length 199\n",
      "community 40 colour tab:purple has length 1190\n",
      "community 41 colour tab:brown has length 8\n",
      "community 42 colour tab:pink has length 21\n",
      "community 43 colour tab:gray has length 23\n",
      "community 44 colour tab:olive has length 15\n",
      "community 45 colour tab:blue has length 445\n",
      "community 46 colour tab:orange has length 782\n",
      "community 47 colour tab:green has length 35\n",
      "community 48 colour tab:red has length 71\n",
      "community 49 colour tab:purple has length 199\n",
      "community 50 colour tab:brown has length 7\n",
      "community 51 colour tab:pink has length 526\n",
      "community 52 colour tab:gray has length 1318\n",
      "community 53 colour tab:olive has length 113\n",
      "community 54 colour tab:blue has length 329\n",
      "community 55 colour tab:orange has length 9\n",
      "community 56 colour tab:green has length 274\n",
      "community 57 colour tab:red has length 566\n",
      "community 58 colour tab:purple has length 1192\n"
     ]
    },
    {
     "ename": "ModuleNotFoundError",
     "evalue": "No module named 'matplotlib'",
     "output_type": "error",
     "traceback": [
      "\u001b[0;31m---------------------------------------------------------------------------\u001b[0m",
      "\u001b[0;31mModuleNotFoundError\u001b[0m                       Traceback (most recent call last)",
      "Cell \u001b[0;32mIn[25], line 9\u001b[0m\n\u001b[1;32m      6\u001b[0m         node_colors[node] \u001b[38;5;241m=\u001b[39m colors[comm_idx \u001b[38;5;241m%\u001b[39m (\u001b[38;5;28mlen\u001b[39m(colors)\u001b[38;5;241m-\u001b[39m\u001b[38;5;241m1\u001b[39m)]\n\u001b[1;32m      7\u001b[0m     \u001b[38;5;28mprint\u001b[39m(\u001b[38;5;124m\"\u001b[39m\u001b[38;5;124mcommunity\u001b[39m\u001b[38;5;124m\"\u001b[39m,comm_idx, \u001b[38;5;124m\"\u001b[39m\u001b[38;5;124mcolour\u001b[39m\u001b[38;5;124m\"\u001b[39m,node_colors[node],\u001b[38;5;124m\"\u001b[39m\u001b[38;5;124mhas length\u001b[39m\u001b[38;5;124m\"\u001b[39m,\u001b[38;5;28mlen\u001b[39m(community))\n\u001b[0;32m----> 9\u001b[0m \u001b[43mnx\u001b[49m\u001b[38;5;241;43m.\u001b[39;49m\u001b[43mdraw\u001b[49m\u001b[43m(\u001b[49m\u001b[43mG\u001b[49m\u001b[43m,\u001b[49m\u001b[43m \u001b[49m\u001b[43mwith_labels\u001b[49m\u001b[38;5;241;43m=\u001b[39;49m\u001b[38;5;28;43;01mFalse\u001b[39;49;00m\u001b[43m,\u001b[49m\u001b[43m \u001b[49m\u001b[43mnode_size\u001b[49m\u001b[38;5;241;43m=\u001b[39;49m\u001b[38;5;241;43m10\u001b[39;49m\u001b[43m,\u001b[49m\u001b[43m \u001b[49m\u001b[43mwidth\u001b[49m\u001b[38;5;241;43m=\u001b[39;49m\u001b[38;5;241;43m0.1\u001b[39;49m\u001b[43m,\u001b[49m\u001b[43m \u001b[49m\u001b[43mnode_color\u001b[49m\u001b[38;5;241;43m=\u001b[39;49m\u001b[43m[\u001b[49m\u001b[43mnode_colors\u001b[49m\u001b[43m[\u001b[49m\u001b[43mnode\u001b[49m\u001b[43m]\u001b[49m\u001b[43m \u001b[49m\u001b[38;5;28;43;01mfor\u001b[39;49;00m\u001b[43m \u001b[49m\u001b[43mnode\u001b[49m\u001b[43m \u001b[49m\u001b[38;5;129;43;01min\u001b[39;49;00m\u001b[43m \u001b[49m\u001b[43mG\u001b[49m\u001b[38;5;241;43m.\u001b[39;49m\u001b[43mnodes\u001b[49m\u001b[43m]\u001b[49m\u001b[43m)\u001b[49m\n",
      "File \u001b[0;32m~/FS24/social_media/project/project-git/Social-Media-Analytics---Project/.venv/lib/python3.10/site-packages/networkx/drawing/nx_pylab.py:105\u001b[0m, in \u001b[0;36mdraw\u001b[0;34m(G, pos, ax, **kwds)\u001b[0m\n\u001b[1;32m     49\u001b[0m \u001b[38;5;28;01mdef\u001b[39;00m \u001b[38;5;21mdraw\u001b[39m(G, pos\u001b[38;5;241m=\u001b[39m\u001b[38;5;28;01mNone\u001b[39;00m, ax\u001b[38;5;241m=\u001b[39m\u001b[38;5;28;01mNone\u001b[39;00m, \u001b[38;5;241m*\u001b[39m\u001b[38;5;241m*\u001b[39mkwds):\n\u001b[1;32m     50\u001b[0m \u001b[38;5;250m    \u001b[39m\u001b[38;5;124;03m\"\"\"Draw the graph G with Matplotlib.\u001b[39;00m\n\u001b[1;32m     51\u001b[0m \n\u001b[1;32m     52\u001b[0m \u001b[38;5;124;03m    Draw the graph as a simple representation with no node\u001b[39;00m\n\u001b[0;32m   (...)\u001b[0m\n\u001b[1;32m    103\u001b[0m \u001b[38;5;124;03m    https://networkx.org/documentation/latest/auto_examples/index.html\u001b[39;00m\n\u001b[1;32m    104\u001b[0m \u001b[38;5;124;03m    \"\"\"\u001b[39;00m\n\u001b[0;32m--> 105\u001b[0m     \u001b[38;5;28;01mimport\u001b[39;00m \u001b[38;5;21;01mmatplotlib\u001b[39;00m\u001b[38;5;21;01m.\u001b[39;00m\u001b[38;5;21;01mpyplot\u001b[39;00m \u001b[38;5;28;01mas\u001b[39;00m \u001b[38;5;21;01mplt\u001b[39;00m\n\u001b[1;32m    107\u001b[0m     \u001b[38;5;28;01mif\u001b[39;00m ax \u001b[38;5;129;01mis\u001b[39;00m \u001b[38;5;28;01mNone\u001b[39;00m:\n\u001b[1;32m    108\u001b[0m         cf \u001b[38;5;241m=\u001b[39m plt\u001b[38;5;241m.\u001b[39mgcf()\n",
      "\u001b[0;31mModuleNotFoundError\u001b[0m: No module named 'matplotlib'"
     ]
    }
   ],
   "source": [
    "colors = ['tab:blue', 'tab:orange', 'tab:green', 'tab:red', 'tab:purple', 'tab:brown', 'tab:pink', 'tab:gray', 'tab:olive', 'tab:cyan']\n",
    "node_colors = {}\n",
    "print(\"There are\",len(communities),\"communities.\")\n",
    "for comm_idx, community in enumerate(communities):\n",
    "    for node in community:\n",
    "        node_colors[node] = colors[comm_idx % (len(colors)-1)]\n",
    "    print(\"community\",comm_idx, \"colour\",node_colors[node],\"has length\",len(community))\n",
    "\n",
    "nx.draw(G, with_labels=False, node_size=10, width=0.1, node_color=[node_colors[node] for node in G.nodes])"
   ]
  },
  {
   "cell_type": "code",
   "execution_count": null,
   "metadata": {},
   "outputs": [],
   "source": []
  }
 ],
 "metadata": {
  "kernelspec": {
   "display_name": ".venv",
   "language": "python",
   "name": "python3"
  },
  "language_info": {
   "codemirror_mode": {
    "name": "ipython",
    "version": 3
   },
   "file_extension": ".py",
   "mimetype": "text/x-python",
   "name": "python",
   "nbconvert_exporter": "python",
   "pygments_lexer": "ipython3",
   "version": "3.10.12"
  }
 },
 "nbformat": 4,
 "nbformat_minor": 2
}
