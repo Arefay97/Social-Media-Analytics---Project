{
 "cells": [
  {
   "cell_type": "code",
   "execution_count": 7,
   "metadata": {},
   "outputs": [],
   "source": [
    "from Louvain_algo import Louvain_algo\n",
    "import importlib\n",
    "#importlib.reload(Louvain_algo)\n",
    "import networkx as nx\n",
    "import utils"
   ]
  },
  {
   "cell_type": "code",
   "execution_count": 2,
   "metadata": {},
   "outputs": [
    {
     "name": "stdout",
     "output_type": "stream",
     "text": [
      "The number of nodes in the graph is:  5242\n",
      "The number of edges in the graph is: 14496\n",
      "Is connected False\n"
     ]
    }
   ],
   "source": [
    "graph = nx.read_edgelist(\"data/CA-GrQc.txt\", nodetype = int)\n",
    "N = nx.number_of_nodes(graph)\n",
    "m = nx.number_of_edges(graph)\n",
    "print(\"The number of nodes in the graph is: \",N)\n",
    "print(\"The number of edges in the graph is:\",m)\n",
    "print(\"Is connected\",nx.is_connected(graph))\n"
   ]
  },
  {
   "cell_type": "code",
   "execution_count": 3,
   "metadata": {},
   "outputs": [
    {
     "name": "stdout",
     "output_type": "stream",
     "text": [
      "The number of nodes in the graph is:  4158\n",
      "The number of edges in the graph is: 13428\n"
     ]
    }
   ],
   "source": [
    "s = list(nx.connected_components(graph))\n",
    "G = graph.subgraph(s[0])\n",
    "N = nx.number_of_nodes(G)\n",
    "m = nx.number_of_edges(G)\n",
    "print(\"The number of nodes in the graph is: \",N)\n",
    "print(\"The number of edges in the graph is:\",m)"
   ]
  },
  {
   "cell_type": "code",
   "execution_count": 4,
   "metadata": {},
   "outputs": [],
   "source": [
    "algo = Louvain_algo(G)"
   ]
  },
  {
   "cell_type": "code",
   "execution_count": 5,
   "metadata": {},
   "outputs": [
    {
     "name": "stdout",
     "output_type": "stream",
     "text": [
      "passage 1\n",
      "There were 1260 communities detected.\n",
      "creating hypergraph\n",
      "passage 2\n",
      "The number of communities was reduced to  375\n"
     ]
    }
   ],
   "source": [
    "communities = algo.run()"
   ]
  },
  {
   "cell_type": "code",
   "execution_count": 8,
   "metadata": {},
   "outputs": [],
   "source": [
    "nodes,edges = utils.Load_data(\"data/musae_facebook_target.csv\",\"data/musae_facebook_edges.csv\")\n",
    "G = utils.Create_Graph(nodes=nodes , edges=edges)"
   ]
  },
  {
   "cell_type": "code",
   "execution_count": 9,
   "metadata": {},
   "outputs": [],
   "source": [
    "algo = Louvain_algo(G)"
   ]
  },
  {
   "cell_type": "code",
   "execution_count": 10,
   "metadata": {},
   "outputs": [
    {
     "name": "stdout",
     "output_type": "stream",
     "text": [
      "passage 1\n"
     ]
    }
   ],
   "source": [
    "communities = algo.run()"
   ]
  },
  {
   "cell_type": "code",
   "execution_count": null,
   "metadata": {},
   "outputs": [],
   "source": []
  }
 ],
 "metadata": {
  "kernelspec": {
   "display_name": ".venv",
   "language": "python",
   "name": "python3"
  },
  "language_info": {
   "codemirror_mode": {
    "name": "ipython",
    "version": 3
   },
   "file_extension": ".py",
   "mimetype": "text/x-python",
   "name": "python",
   "nbconvert_exporter": "python",
   "pygments_lexer": "ipython3",
   "version": "3.10.12"
  }
 },
 "nbformat": 4,
 "nbformat_minor": 2
}
