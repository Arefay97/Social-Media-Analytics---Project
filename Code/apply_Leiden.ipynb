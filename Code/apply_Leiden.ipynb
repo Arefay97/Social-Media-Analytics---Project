{
 "cells": [
  {
   "cell_type": "code",
   "execution_count": 1,
   "metadata": {},
   "outputs": [],
   "source": [
    "#Apply Leiden"
   ]
  },
  {
   "cell_type": "code",
   "execution_count": 2,
   "metadata": {},
   "outputs": [
    {
     "name": "stdout",
     "output_type": "stream",
     "text": [
      "Note: to be able to use all crisp methods, you need to install some additional packages:  {'wurlitzer', 'infomap', 'graph_tool', 'bayanpy'}\n",
      "Note: to be able to use all crisp methods, you need to install some additional packages:  {'pyclustering', 'ASLPAw'}\n",
      "Note: to be able to use all crisp methods, you need to install some additional packages:  {'wurlitzer', 'infomap'}\n"
     ]
    }
   ],
   "source": [
    "from cdlib import algorithms\n",
    "import networkx as nx\n",
    "import utils\n",
    "import csv"
   ]
  },
  {
   "cell_type": "code",
   "execution_count": 3,
   "metadata": {},
   "outputs": [],
   "source": [
    "nodes,edges = utils.Load_data(\"nodes_with_Louvain_communities.csv\",\"edges without loops.csv\")\n",
    "facebook_graph = utils.Create_Graph(nodes=nodes , edges=edges)"
   ]
  },
  {
   "cell_type": "code",
   "execution_count": 4,
   "metadata": {},
   "outputs": [],
   "source": [
    "coms = algorithms.leiden(facebook_graph)\n",
    "coms = coms.communities"
   ]
  },
  {
   "cell_type": "code",
   "execution_count": 5,
   "metadata": {},
   "outputs": [],
   "source": [
    "#Adding the community id to the graphs as attributes\n",
    "def add_community_ids(G,node_lists,attribute):\n",
    "    for i, nodes in enumerate(node_lists):\n",
    "        for node in nodes:\n",
    "            # Here you can set any attribute\n",
    "            G.nodes[node][attribute] = i\n",
    "    return G"
   ]
  },
  {
   "cell_type": "code",
   "execution_count": 6,
   "metadata": {},
   "outputs": [],
   "source": [
    "added_G = add_community_ids(facebook_graph,coms,'Leiden_id')"
   ]
  },
  {
   "cell_type": "code",
   "execution_count": 7,
   "metadata": {},
   "outputs": [],
   "source": [
    "def write_csv(G,csv_file_path):\n",
    "    # Open the CSV file in write mode\n",
    "    with open(csv_file_path, mode='w', newline='') as file:\n",
    "        writer = csv.writer(file)\n",
    "        # Write the header\n",
    "        writer.writerow(['id']+list(G.nodes[0].keys())) # Add headers for node attributes if applicable\n",
    "        \n",
    "        # Write node information\n",
    "        for node in G.nodes():\n",
    "            # Get node attributes if available\n",
    "            # For example, you might have node attributes stored as a dictionary\n",
    "            node_attributes = G.nodes[node]\n",
    "            \n",
    "            # Write node information to CSV\n",
    "            writer.writerow([node] + [node_attributes.get(attribute, '') for attribute in G.nodes[0].keys()])"
   ]
  },
  {
   "cell_type": "code",
   "execution_count": 9,
   "metadata": {},
   "outputs": [],
   "source": [
    "write_csv(added_G,'nodes_with_all_communities.csv')"
   ]
  },
  {
   "cell_type": "code",
   "execution_count": null,
   "metadata": {},
   "outputs": [],
   "source": []
  }
 ],
 "metadata": {
  "kernelspec": {
   "display_name": ".venv",
   "language": "python",
   "name": "python3"
  },
  "language_info": {
   "codemirror_mode": {
    "name": "ipython",
    "version": 3
   },
   "file_extension": ".py",
   "mimetype": "text/x-python",
   "name": "python",
   "nbconvert_exporter": "python",
   "pygments_lexer": "ipython3",
   "version": "3.10.12"
  }
 },
 "nbformat": 4,
 "nbformat_minor": 2
}
